{
 "cells": [
  {
   "cell_type": "code",
   "execution_count": 2,
   "metadata": {},
   "outputs": [],
   "source": [
    "import pandas as pd"
   ]
  },
  {
   "cell_type": "code",
   "execution_count": 3,
   "metadata": {},
   "outputs": [],
   "source": [
    "import sqlite3 as sql"
   ]
  },
  {
   "cell_type": "code",
   "execution_count": 4,
   "metadata": {},
   "outputs": [],
   "source": [
    "from pathlib import Path"
   ]
  },
  {
   "cell_type": "code",
   "execution_count": 5,
   "metadata": {},
   "outputs": [],
   "source": [
    "import mysql.connector"
   ]
  },
  {
   "cell_type": "code",
   "execution_count": 6,
   "metadata": {},
   "outputs": [],
   "source": [
    "from mysql.connector import connect, Error"
   ]
  },
  {
   "cell_type": "code",
   "execution_count": 7,
   "metadata": {},
   "outputs": [],
   "source": [
    "from sqlalchemy import create_engine"
   ]
  },
  {
   "cell_type": "code",
   "execution_count": 8,
   "metadata": {},
   "outputs": [],
   "source": [
    "import os"
   ]
  },
  {
   "cell_type": "code",
   "execution_count": null,
   "metadata": {},
   "outputs": [],
   "source": []
  },
  {
   "cell_type": "code",
   "execution_count": 9,
   "metadata": {},
   "outputs": [],
   "source": [
    "path='/home/dpv/Desktop/Olist/conf/.env'\n",
    "if (os.environ.get(\"DB_TYPE\") == None):\n",
    "    from dotenv import load_dotenv\n",
    "    #from config.definitions import ROOT_DIR\n",
    "    #load_dotenv(os.path.join(ROOT_DIR, 'config', 'conf', '.env'))\n",
    "    load_dotenv(path)\n"
   ]
  },
  {
   "cell_type": "code",
   "execution_count": 10,
   "metadata": {},
   "outputs": [],
   "source": [
    "#PASSWORD='cocoStella##22'\n",
    "PASSWORD=os.environ.get(\"MYSQL_PWD\")\n",
    "\n"
   ]
  },
  {
   "cell_type": "code",
   "execution_count": 11,
   "metadata": {},
   "outputs": [
    {
     "name": "stdout",
     "output_type": "stream",
     "text": [
      "<mysql.connector.connection_cext.CMySQLConnection object at 0x7f21929832e0>\n"
     ]
    }
   ],
   "source": [
    "try:\n",
    "    with connect(\n",
    "        host=\"localhost\",\n",
    "        user='root',\n",
    "        password=PASSWORD,\n",
    "    ) as connection:\n",
    "        print(connection)\n",
    "except Error as e:\n",
    "    print(e)"
   ]
  },
  {
   "cell_type": "code",
   "execution_count": 12,
   "metadata": {},
   "outputs": [],
   "source": [
    "# show_db_query = \"SHOW DATABASES\"\n",
    "# with connection.cursor() as cursor:\n",
    "#     cursor.execute(show_db_query)\n",
    "#     for db in cursor:\n",
    "#         print(db)\n"
   ]
  },
  {
   "cell_type": "code",
   "execution_count": 17,
   "metadata": {},
   "outputs": [],
   "source": [
    "import mysql.connector\n",
    "\n",
    "config = {\n",
    "  'user': 'root',\n",
    "  'password': PASSWORD,\n",
    "  'host': '127.0.0.1',\n",
    "  'database': 'olist',\n",
    "  'raise_on_warnings': True\n",
    "}\n",
    "\n",
    "db_conn = mysql.connector.connect(**config)\n",
    "\n",
    "#db_conn.close()"
   ]
  },
  {
   "cell_type": "code",
   "execution_count": 18,
   "metadata": {},
   "outputs": [],
   "source": [
    "# query=\"SHOW TABLES;\"\n",
    "# #cursor = conn.cursor(buffered=True,dictionary=true)\n",
    "# with cnx.cursor(buffered=True) as cursor:\n",
    "#     cursor.execute(query)\n",
    "#     #connection.commit()"
   ]
  },
  {
   "cell_type": "code",
   "execution_count": 19,
   "metadata": {},
   "outputs": [],
   "source": [
    "# #import mysql.connector\n",
    "# USER='dpv'\n",
    "# PASSWORD='cocoStella##22'\n",
    "# config = {\n",
    "#   'user': 'root',\n",
    "#   'password': PASSWORD,\n",
    "#   #'Ehost': '##.##.#.##',\n",
    "#   'database': 'olist',\n",
    "#   #'port': '####',\n",
    "#   'raise_on_warnings': True,\n",
    "# }\n",
    "\n",
    "# cnx = mysql.connector.connect(**config)\n",
    "\n",
    "# #cnx.close()"
   ]
  },
  {
   "cell_type": "code",
   "execution_count": 20,
   "metadata": {},
   "outputs": [
    {
     "name": "stdout",
     "output_type": "stream",
     "text": [
      "('customers',)\n",
      "('olist_geolocation_dataset',)\n",
      "('olist_order_items_dataset',)\n",
      "('olist_order_payments_dataset',)\n",
      "('olist_order_reviews_dataset',)\n",
      "('olist_orders_dataset',)\n",
      "('olist_products_dataset',)\n",
      "('olist_sellers_dataset',)\n",
      "('product_category_name_translation',)\n"
     ]
    }
   ],
   "source": [
    "mycursor = db_conn.cursor()\n",
    " \n",
    "mycursor.execute(\"Show tables;\")\n",
    " \n",
    "myresult = mycursor.fetchall()\n",
    " \n",
    "for x in myresult:\n",
    "    print(x)"
   ]
  },
  {
   "cell_type": "code",
   "execution_count": 23,
   "metadata": {},
   "outputs": [
    {
     "name": "stdout",
     "output_type": "stream",
     "text": [
      "(99441,)\n"
     ]
    }
   ],
   "source": [
    "mycursor.execute(\"SELECT COUNT(*) FROM customers;\")\n",
    "myresult = mycursor.fetchall()\n",
    "for x in myresult:\n",
    "    print(x)"
   ]
  },
  {
   "cell_type": "code",
   "execution_count": 31,
   "metadata": {},
   "outputs": [
    {
     "name": "stderr",
     "output_type": "stream",
     "text": [
      "/home/dpv/mambaforge/envs/fastClean/lib/python3.10/site-packages/pandas/io/sql.py:761: UserWarning: pandas only support SQLAlchemy connectable(engine/connection) ordatabase string URI or sqlite3 DBAPI2 connectionother DBAPI2 objects are not tested, please consider using SQLAlchemy\n",
      "  warnings.warn(\n",
      "/home/dpv/mambaforge/envs/fastClean/lib/python3.10/site-packages/pandas/io/sql.py:761: UserWarning: pandas only support SQLAlchemy connectable(engine/connection) ordatabase string URI or sqlite3 DBAPI2 connectionother DBAPI2 objects are not tested, please consider using SQLAlchemy\n",
      "  warnings.warn(\n",
      "/home/dpv/mambaforge/envs/fastClean/lib/python3.10/site-packages/pandas/io/sql.py:761: UserWarning: pandas only support SQLAlchemy connectable(engine/connection) ordatabase string URI or sqlite3 DBAPI2 connectionother DBAPI2 objects are not tested, please consider using SQLAlchemy\n",
      "  warnings.warn(\n",
      "/home/dpv/mambaforge/envs/fastClean/lib/python3.10/site-packages/pandas/io/sql.py:761: UserWarning: pandas only support SQLAlchemy connectable(engine/connection) ordatabase string URI or sqlite3 DBAPI2 connectionother DBAPI2 objects are not tested, please consider using SQLAlchemy\n",
      "  warnings.warn(\n",
      "/home/dpv/mambaforge/envs/fastClean/lib/python3.10/site-packages/pandas/io/sql.py:761: UserWarning: pandas only support SQLAlchemy connectable(engine/connection) ordatabase string URI or sqlite3 DBAPI2 connectionother DBAPI2 objects are not tested, please consider using SQLAlchemy\n",
      "  warnings.warn(\n",
      "/home/dpv/mambaforge/envs/fastClean/lib/python3.10/site-packages/pandas/io/sql.py:761: UserWarning: pandas only support SQLAlchemy connectable(engine/connection) ordatabase string URI or sqlite3 DBAPI2 connectionother DBAPI2 objects are not tested, please consider using SQLAlchemy\n",
      "  warnings.warn(\n",
      "/home/dpv/mambaforge/envs/fastClean/lib/python3.10/site-packages/pandas/io/sql.py:761: UserWarning: pandas only support SQLAlchemy connectable(engine/connection) ordatabase string URI or sqlite3 DBAPI2 connectionother DBAPI2 objects are not tested, please consider using SQLAlchemy\n",
      "  warnings.warn(\n",
      "/home/dpv/mambaforge/envs/fastClean/lib/python3.10/site-packages/pandas/io/sql.py:761: UserWarning: pandas only support SQLAlchemy connectable(engine/connection) ordatabase string URI or sqlite3 DBAPI2 connectionother DBAPI2 objects are not tested, please consider using SQLAlchemy\n",
      "  warnings.warn(\n"
     ]
    }
   ],
   "source": [
    "customers=pd.read_sql(\n",
    "  \"\"\"\n",
    "        select *\n",
    "        from customers\n",
    "        \n",
    "  \"\"\", db_conn)\n",
    "geo=pd.read_sql(\n",
    "  \"\"\"\n",
    "        select *\n",
    "        from geolocation\n",
    "        \n",
    "  \"\"\", db_conn)\n",
    "order_items=pd.read_sql(\n",
    "  \"\"\"\n",
    "        select *\n",
    "        from order_items\n",
    "        \n",
    "  \"\"\", db_conn)\n",
    "\n",
    "order_payments=pd.read_sql(\n",
    "  \"\"\"\n",
    "        select *\n",
    "        from order_payments\n",
    "        \n",
    "  \"\"\", db_conn)\n",
    "\n",
    "order_reviews=pd.read_sql(\n",
    "  \"\"\"\n",
    "        select *\n",
    "        from order_reviews\n",
    "        \n",
    "  \"\"\", db_conn)\n",
    "\n",
    "\n",
    "orders=pd.read_sql(\n",
    "  \"\"\"\n",
    "        select *\n",
    "        from orders\n",
    "        \n",
    "  \"\"\", db_conn)\n",
    "\n",
    "\n",
    "products=pd.read_sql(\n",
    "  \"\"\"\n",
    "        select *\n",
    "        from olist_products_dataset\n",
    "        \n",
    "  \"\"\", db_conn)\n",
    "\n",
    "\n",
    "sellers=pd.read_sql(\n",
    "  \"\"\"\n",
    "        select *\n",
    "        from olist_sellers_dataset\n",
    "        \n",
    "  \"\"\", db_conn)\n",
    "\n",
    "\n",
    "translations=pd.read_sql(\n",
    "  \"\"\"\n",
    "        select *\n",
    "        from product_category_name_translation\n",
    "        \n",
    "  \"\"\", db_conn)\n",
    "\n",
    "\n",
    "tables = [customers, geo, order_items, order_payments,order_reviews,\n",
    "orders,products,sellers,translations]\n",
    "\n"
   ]
  },
  {
   "cell_type": "code",
   "execution_count": 26,
   "metadata": {},
   "outputs": [
    {
     "name": "stdout",
     "output_type": "stream",
     "text": [
      "<class 'pandas.core.frame.DataFrame'>\n",
      "RangeIndex: 99441 entries, 0 to 99440\n",
      "Data columns (total 5 columns):\n",
      " #   Column                    Non-Null Count  Dtype \n",
      "---  ------                    --------------  ----- \n",
      " 0   customer_id               99441 non-null  object\n",
      " 1   customer_unique_id        99441 non-null  object\n",
      " 2   customer_zip_code_prefix  99441 non-null  int64 \n",
      " 3   customer_city             99441 non-null  object\n",
      " 4   customer_state            99441 non-null  object\n",
      "dtypes: int64(1), object(4)\n",
      "memory usage: 3.8+ MB\n",
      "None\n",
      "<class 'pandas.core.frame.DataFrame'>\n",
      "RangeIndex: 1000163 entries, 0 to 1000162\n",
      "Data columns (total 5 columns):\n",
      " #   Column                       Non-Null Count    Dtype  \n",
      "---  ------                       --------------    -----  \n",
      " 0   geolocation_zip_code_prefix  1000163 non-null  object \n",
      " 1   geolocation_lat              1000163 non-null  float64\n",
      " 2   geolocation_lng              1000163 non-null  float64\n",
      " 3   geolocation_city             1000163 non-null  object \n",
      " 4   geolocation_state            1000163 non-null  object \n",
      "dtypes: float64(2), object(3)\n",
      "memory usage: 38.2+ MB\n",
      "None\n",
      "<class 'pandas.core.frame.DataFrame'>\n",
      "RangeIndex: 112650 entries, 0 to 112649\n",
      "Data columns (total 7 columns):\n",
      " #   Column               Non-Null Count   Dtype  \n",
      "---  ------               --------------   -----  \n",
      " 0   order_id             112650 non-null  object \n",
      " 1   order_item_id        112650 non-null  int64  \n",
      " 2   product_id           112650 non-null  object \n",
      " 3   seller_id            112650 non-null  object \n",
      " 4   shipping_limit_date  112650 non-null  object \n",
      " 5   price                112650 non-null  float64\n",
      " 6   freight_value        112650 non-null  float64\n",
      "dtypes: float64(2), int64(1), object(4)\n",
      "memory usage: 6.0+ MB\n",
      "None\n",
      "<class 'pandas.core.frame.DataFrame'>\n",
      "RangeIndex: 103886 entries, 0 to 103885\n",
      "Data columns (total 5 columns):\n",
      " #   Column                Non-Null Count   Dtype  \n",
      "---  ------                --------------   -----  \n",
      " 0   order_id              103886 non-null  object \n",
      " 1   payment_sequential    103886 non-null  int64  \n",
      " 2   payment_type          103886 non-null  object \n",
      " 3   payment_installments  103886 non-null  int64  \n",
      " 4   payment_value         103886 non-null  float64\n",
      "dtypes: float64(1), int64(2), object(2)\n",
      "memory usage: 4.0+ MB\n",
      "None\n",
      "<class 'pandas.core.frame.DataFrame'>\n",
      "RangeIndex: 99204 entries, 0 to 99203\n",
      "Data columns (total 7 columns):\n",
      " #   Column                   Non-Null Count  Dtype  \n",
      "---  ------                   --------------  -----  \n",
      " 0   review_id                99204 non-null  object \n",
      " 1   order_id                 99204 non-null  object \n",
      " 2   review_score             99204 non-null  float64\n",
      " 3   review_comment_title     99204 non-null  object \n",
      " 4   review_comment_message   99204 non-null  object \n",
      " 5   review_creation_date     99204 non-null  object \n",
      " 6   review_answer_timestamp  99204 non-null  object \n",
      "dtypes: float64(1), object(6)\n",
      "memory usage: 5.3+ MB\n",
      "None\n",
      "<class 'pandas.core.frame.DataFrame'>\n",
      "RangeIndex: 99441 entries, 0 to 99440\n",
      "Data columns (total 8 columns):\n",
      " #   Column                         Non-Null Count  Dtype \n",
      "---  ------                         --------------  ----- \n",
      " 0   order_id                       99441 non-null  object\n",
      " 1   customer_id                    99441 non-null  object\n",
      " 2   order_status                   99441 non-null  object\n",
      " 3   order_purchase_timestamp       99441 non-null  object\n",
      " 4   order_approved_at              99441 non-null  object\n",
      " 5   order_delivered_carrier_date   99441 non-null  object\n",
      " 6   order_delivered_customer_date  99441 non-null  object\n",
      " 7   order_estimated_delivery_date  99441 non-null  object\n",
      "dtypes: object(8)\n",
      "memory usage: 6.1+ MB\n",
      "None\n",
      "<class 'pandas.core.frame.DataFrame'>\n",
      "RangeIndex: 32340 entries, 0 to 32339\n",
      "Data columns (total 9 columns):\n",
      " #   Column                      Non-Null Count  Dtype \n",
      "---  ------                      --------------  ----- \n",
      " 0   product_id                  32340 non-null  object\n",
      " 1   product_category_name       32340 non-null  object\n",
      " 2   product_name_lenght         32340 non-null  int64 \n",
      " 3   product_description_lenght  32340 non-null  int64 \n",
      " 4   product_photos_qty          32340 non-null  int64 \n",
      " 5   product_weight_g            32340 non-null  int64 \n",
      " 6   product_length_cm           32340 non-null  int64 \n",
      " 7   product_height_cm           32340 non-null  int64 \n",
      " 8   product_width_cm            32340 non-null  int64 \n",
      "dtypes: int64(7), object(2)\n",
      "memory usage: 2.2+ MB\n",
      "None\n",
      "<class 'pandas.core.frame.DataFrame'>\n",
      "RangeIndex: 3095 entries, 0 to 3094\n",
      "Data columns (total 4 columns):\n",
      " #   Column                  Non-Null Count  Dtype \n",
      "---  ------                  --------------  ----- \n",
      " 0   seller_id               3095 non-null   object\n",
      " 1   seller_zip_code_prefix  3095 non-null   object\n",
      " 2   seller_city             3095 non-null   object\n",
      " 3   seller_state            3095 non-null   object\n",
      "dtypes: object(4)\n",
      "memory usage: 96.8+ KB\n",
      "None\n",
      "<class 'pandas.core.frame.DataFrame'>\n",
      "RangeIndex: 71 entries, 0 to 70\n",
      "Data columns (total 2 columns):\n",
      " #   Column                         Non-Null Count  Dtype \n",
      "---  ------                         --------------  ----- \n",
      " 0   ﻿product_category_name         71 non-null     object\n",
      " 1   product_category_name_english  71 non-null     object\n",
      "dtypes: object(2)\n",
      "memory usage: 1.2+ KB\n",
      "None\n"
     ]
    }
   ],
   "source": [
    "for table in tables:\n",
    "    print(table.info())"
   ]
  },
  {
   "cell_type": "code",
   "execution_count": 28,
   "metadata": {},
   "outputs": [
    {
     "data": {
      "text/html": [
       "<div>\n",
       "<style scoped>\n",
       "    .dataframe tbody tr th:only-of-type {\n",
       "        vertical-align: middle;\n",
       "    }\n",
       "\n",
       "    .dataframe tbody tr th {\n",
       "        vertical-align: top;\n",
       "    }\n",
       "\n",
       "    .dataframe thead th {\n",
       "        text-align: right;\n",
       "    }\n",
       "</style>\n",
       "<table border=\"1\" class=\"dataframe\">\n",
       "  <thead>\n",
       "    <tr style=\"text-align: right;\">\n",
       "      <th></th>\n",
       "      <th>order_status</th>\n",
       "    </tr>\n",
       "  </thead>\n",
       "  <tbody>\n",
       "    <tr>\n",
       "      <th>0</th>\n",
       "      <td>delivered</td>\n",
       "    </tr>\n",
       "    <tr>\n",
       "      <th>1</th>\n",
       "      <td>invoiced</td>\n",
       "    </tr>\n",
       "    <tr>\n",
       "      <th>2</th>\n",
       "      <td>shipped</td>\n",
       "    </tr>\n",
       "    <tr>\n",
       "      <th>3</th>\n",
       "      <td>processing</td>\n",
       "    </tr>\n",
       "    <tr>\n",
       "      <th>4</th>\n",
       "      <td>unavailable</td>\n",
       "    </tr>\n",
       "    <tr>\n",
       "      <th>5</th>\n",
       "      <td>canceled</td>\n",
       "    </tr>\n",
       "    <tr>\n",
       "      <th>6</th>\n",
       "      <td>created</td>\n",
       "    </tr>\n",
       "    <tr>\n",
       "      <th>7</th>\n",
       "      <td>approved</td>\n",
       "    </tr>\n",
       "  </tbody>\n",
       "</table>\n",
       "</div>"
      ],
      "text/plain": [
       "  order_status\n",
       "0    delivered\n",
       "1     invoiced\n",
       "2      shipped\n",
       "3   processing\n",
       "4  unavailable\n",
       "5     canceled\n",
       "6      created\n",
       "7     approved"
      ]
     },
     "execution_count": 28,
     "metadata": {},
     "output_type": "execute_result"
    }
   ],
   "source": [
    "pd.read_sql(\n",
    "  \"\"\"\n",
    "        Select DISTINCT order_status\n",
    "        from olist_orders_dataset\n",
    "\n",
    "  \"\"\", db_conn)"
   ]
  },
  {
   "cell_type": "code",
   "execution_count": 32,
   "metadata": {},
   "outputs": [
    {
     "name": "stderr",
     "output_type": "stream",
     "text": [
      "/home/dpv/mambaforge/envs/fastClean/lib/python3.10/site-packages/pandas/io/sql.py:761: UserWarning: pandas only support SQLAlchemy connectable(engine/connection) ordatabase string URI or sqlite3 DBAPI2 connectionother DBAPI2 objects are not tested, please consider using SQLAlchemy\n",
      "  warnings.warn(\n"
     ]
    }
   ],
   "source": [
    "SQL_Query = pd.read_sql(\n",
    "  \"\"\"\n",
    "        Select \n",
    "          c.customer_unique_id, \n",
    "          o.order_purchase_timestamp,\n",
    "          p.payment_value\n",
    "\n",
    "        from customers as c\n",
    "        join orders as o on o.customer_id = c.customer_id \n",
    "        join order_payments as p on o.order_id = p.order_id\n",
    "        Where NOT o.order_status= 'canceled'       \n",
    "\n",
    "\n",
    "  \"\"\", db_conn)\n",
    "\n",
    "df = pd.DataFrame(SQL_Query)"
   ]
  },
  {
   "cell_type": "code",
   "execution_count": 33,
   "metadata": {},
   "outputs": [
    {
     "name": "stdout",
     "output_type": "stream",
     "text": [
      "<class 'pandas.core.frame.DataFrame'>\n",
      "RangeIndex: 103222 entries, 0 to 103221\n",
      "Data columns (total 3 columns):\n",
      " #   Column                    Non-Null Count   Dtype  \n",
      "---  ------                    --------------   -----  \n",
      " 0   customer_unique_id        103222 non-null  object \n",
      " 1   order_purchase_timestamp  103222 non-null  object \n",
      " 2   payment_value             103222 non-null  float64\n",
      "dtypes: float64(1), object(2)\n",
      "memory usage: 2.4+ MB\n"
     ]
    }
   ],
   "source": [
    "df.info()"
   ]
  },
  {
   "cell_type": "code",
   "execution_count": 34,
   "metadata": {},
   "outputs": [
    {
     "data": {
      "text/html": [
       "<div>\n",
       "<style scoped>\n",
       "    .dataframe tbody tr th:only-of-type {\n",
       "        vertical-align: middle;\n",
       "    }\n",
       "\n",
       "    .dataframe tbody tr th {\n",
       "        vertical-align: top;\n",
       "    }\n",
       "\n",
       "    .dataframe thead th {\n",
       "        text-align: right;\n",
       "    }\n",
       "</style>\n",
       "<table border=\"1\" class=\"dataframe\">\n",
       "  <thead>\n",
       "    <tr style=\"text-align: right;\">\n",
       "      <th></th>\n",
       "      <th>customer_unique_id</th>\n",
       "      <th>order_purchase_timestamp</th>\n",
       "      <th>payment_value</th>\n",
       "    </tr>\n",
       "  </thead>\n",
       "  <tbody>\n",
       "    <tr>\n",
       "      <th>0</th>\n",
       "      <td>bf635aadfff238fd7e9b0d25e800d019</td>\n",
       "      <td>2017-09-25 16:38:46</td>\n",
       "      <td>26.58</td>\n",
       "    </tr>\n",
       "    <tr>\n",
       "      <th>1</th>\n",
       "      <td>55020cb68ae358a51969695657a54e9c</td>\n",
       "      <td>2018-06-11 14:59:24</td>\n",
       "      <td>340.08</td>\n",
       "    </tr>\n",
       "    <tr>\n",
       "      <th>2</th>\n",
       "      <td>d02cbb85434c84acabb8e81bbf064d3e</td>\n",
       "      <td>2018-01-14 18:49:14</td>\n",
       "      <td>48.91</td>\n",
       "    </tr>\n",
       "    <tr>\n",
       "      <th>3</th>\n",
       "      <td>cb409daad1fb6069e979463ca3de23dc</td>\n",
       "      <td>2017-07-18 13:32:25</td>\n",
       "      <td>154.14</td>\n",
       "    </tr>\n",
       "    <tr>\n",
       "      <th>4</th>\n",
       "      <td>23daf66dd86071f57d332fa5562afbe9</td>\n",
       "      <td>2018-05-23 16:37:35</td>\n",
       "      <td>20.75</td>\n",
       "    </tr>\n",
       "  </tbody>\n",
       "</table>\n",
       "</div>"
      ],
      "text/plain": [
       "                 customer_unique_id order_purchase_timestamp  payment_value\n",
       "0  bf635aadfff238fd7e9b0d25e800d019      2017-09-25 16:38:46          26.58\n",
       "1  55020cb68ae358a51969695657a54e9c      2018-06-11 14:59:24         340.08\n",
       "2  d02cbb85434c84acabb8e81bbf064d3e      2018-01-14 18:49:14          48.91\n",
       "3  cb409daad1fb6069e979463ca3de23dc      2017-07-18 13:32:25         154.14\n",
       "4  23daf66dd86071f57d332fa5562afbe9      2018-05-23 16:37:35          20.75"
      ]
     },
     "execution_count": 34,
     "metadata": {},
     "output_type": "execute_result"
    }
   ],
   "source": [
    "df.head()"
   ]
  },
  {
   "cell_type": "code",
   "execution_count": 18,
   "metadata": {},
   "outputs": [],
   "source": [
    "#full_path=Path('/var/lib/mysql/')"
   ]
  },
  {
   "cell_type": "code",
   "execution_count": 19,
   "metadata": {},
   "outputs": [
    {
     "data": {
      "text/plain": [
       "True"
      ]
     },
     "execution_count": 19,
     "metadata": {},
     "output_type": "execute_result"
    }
   ],
   "source": [
    "#full_path.exists()"
   ]
  },
  {
   "cell_type": "code",
   "execution_count": 20,
   "metadata": {},
   "outputs": [],
   "source": [
    "#path = Path('/var/lib/mysql/olist.db')"
   ]
  },
  {
   "cell_type": "code",
   "execution_count": 46,
   "metadata": {},
   "outputs": [],
   "source": [
    "#path.exists()"
   ]
  },
  {
   "cell_type": "code",
   "execution_count": 47,
   "metadata": {},
   "outputs": [],
   "source": [
    "#!ls full_path"
   ]
  },
  {
   "cell_type": "code",
   "execution_count": 48,
   "metadata": {},
   "outputs": [],
   "source": [
    "#!ls path"
   ]
  },
  {
   "cell_type": "code",
   "execution_count": 49,
   "metadata": {},
   "outputs": [],
   "source": [
    "#db_conn = sql.connect(path)"
   ]
  }
 ],
 "metadata": {
  "kernelspec": {
   "display_name": "Python 3.10.4 ('fastClean')",
   "language": "python",
   "name": "python3"
  },
  "language_info": {
   "codemirror_mode": {
    "name": "ipython",
    "version": 3
   },
   "file_extension": ".py",
   "mimetype": "text/x-python",
   "name": "python",
   "nbconvert_exporter": "python",
   "pygments_lexer": "ipython3",
   "version": "3.10.4"
  },
  "orig_nbformat": 4,
  "vscode": {
   "interpreter": {
    "hash": "21806017a53b1e63c0d6447374d1f0a34d72e99dbf60fa29a45a20eb9fab0c7a"
   }
  }
 },
 "nbformat": 4,
 "nbformat_minor": 2
}
